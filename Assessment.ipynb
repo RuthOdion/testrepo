{
 "cells": [
  {
   "cell_type": "markdown",
   "id": "c06f453d-9355-4883-b10b-6b15da0e3de3",
   "metadata": {},
   "source": [
    "# My Jupyter Notebook on IBM Watson Studio"
   ]
  },
  {
   "cell_type": "markdown",
   "id": "45d6db2d-3ae9-4e3e-b9b3-fa1c091d1943",
   "metadata": {},
   "source": [
    "__Ruth Ailoyafen__"
   ]
  },
  {
   "cell_type": "markdown",
   "id": "8d529339-0b5b-4ae3-8776-0eb8d979c0c8",
   "metadata": {},
   "source": [
    "*I am interested in data science because I to help want companies/organizations make smarter business decisions using data.*"
   ]
  },
  {
   "cell_type": "markdown",
   "id": "96845bee-426c-46ba-aa32-931d91c67fcb",
   "metadata": {},
   "source": [
    "### The code in cell 5 asks the user to enter two numbers as inputs, calculates the sum of two numbers and displays the result as output."
   ]
  },
  {
   "cell_type": "code",
   "execution_count": null,
   "id": "42180aa7-6410-44f2-8f61-e41d3aa152a4",
   "metadata": {},
   "outputs": [],
   "source": [
    "Number_1 = int(input(\"Enter first non-negative number e.g 1,2,3: \"))\n",
    "Number_2 = int(input(\"Enter second non-negative number e.g 1,2,3: \"))\n",
    "val = Number_1 + Number_2\n",
    "print(\"The sum of \", Number_1, \" and \", Number_2, \" is \" , val)"
   ]
  }
 ],
 "metadata": {
  "kernelspec": {
   "display_name": "Python",
   "language": "python",
   "name": "conda-env-python-py"
  },
  "language_info": {
   "codemirror_mode": {
    "name": "ipython",
    "version": 3
   },
   "file_extension": ".py",
   "mimetype": "text/x-python",
   "name": "python",
   "nbconvert_exporter": "python",
   "pygments_lexer": "ipython3",
   "version": "3.7.12"
  }
 },
 "nbformat": 4,
 "nbformat_minor": 5
}
